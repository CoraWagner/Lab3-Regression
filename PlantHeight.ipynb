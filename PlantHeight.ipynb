{
 "cells": [
  {
   "cell_type": "code",
   "execution_count": null,
   "outputs": [],
   "source": [
    "# Cora Wagner and Alex Wood\n",
    "# 11/04/2021\n",
    "# \n",
    "\n",
    "import pandas as pd\n",
    "import matplotlib.pyplot as plt\n",
    "import numpy as np\n",
    "\n",
    "# Reads in the file\n",
    "file = pd.read_csv('Plant Height Data - Data.csv')\n",
    "\n",
    "# Creates lists for each column being graphed\n",
    "height = file['height'].tolist()\n",
    "temp = file['temp'].tolist()\n",
    "rain = file['rain'].tolist()\n",
    "alt = file['alt'].tolist()\n",
    "siteNum = file['site'].tolist()\n",
    "\n",
    "# Variables holding the label correlating to each list data set\n",
    "h = \"Height\"\n",
    "t = \"Temperature\"\n",
    "r = \"Rain\"\n",
    "a = \"Altitude\"\n",
    "s = \"Site Number\"\n",
    "\n",
    "def plant(xvalue, yvalue, xname, yname):\n",
    "    # Plot data points\n",
    "    plt.scatter(xvalue, yvalue)\n",
    "\n",
    "    # Plot line of best fit\n",
    "    x = np.array(xvalue)\n",
    "    y = np.array(yvalue)\n",
    "    m, b = np.polyfit(x, y, 1)\n",
    "\n",
    "    plt.plot(x, y, 'o')\n",
    "    plt.plot(x, m*x + b)\n",
    "\n",
    "    # Add title and axis labels\n",
    "    plt.title(\"Plant Height Based on \" + xname)\n",
    "    plt.xlabel(xname)\n",
    "    plt.ylabel(yname)\n",
    "\n",
    "    plt.show()\n",
    "\n",
    "    # R Squared\n",
    "    coeffs = np.polyfit(x, y, 1)\n",
    "    p = np.poly1d(coeffs)\n",
    "    y_hat = p(x)\n",
    "    y_bar = np.sum(y)/len(y)\n",
    "    ssreg = np.sum((y_hat-y_bar)**2)\n",
    "    sstot = np.sum((y - y_bar)**2)\n",
    "    rsquared = ssreg / sstot\n",
    "\n",
    "    print(\"R Squared for Plant Height Based on \" + xname +\": \" + str(rsquared))\n",
    "\n",
    "plant(temp,height,t,h)\n",
    "plant(rain,height,r,h)\n",
    "plant(alt,height,a,h)\n",
    "plant(siteNum,height,s,h)"
   ],
   "metadata": {
    "collapsed": false,
    "pycharm": {
     "name": "#%%\n"
    }
   }
  }
 ],
 "metadata": {
  "kernelspec": {
   "display_name": "Python 3",
   "language": "python",
   "name": "python3"
  },
  "language_info": {
   "codemirror_mode": {
    "name": "ipython",
    "version": 2
   },
   "file_extension": ".py",
   "mimetype": "text/x-python",
   "name": "python",
   "nbconvert_exporter": "python",
   "pygments_lexer": "ipython2",
   "version": "2.7.6"
  }
 },
 "nbformat": 4,
 "nbformat_minor": 0
}